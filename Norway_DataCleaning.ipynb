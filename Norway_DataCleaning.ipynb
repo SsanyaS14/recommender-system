{
 "cells": [
  {
   "cell_type": "code",
   "execution_count": 105,
   "metadata": {},
   "outputs": [],
   "source": [
    "import pandas as pd\n",
    "import numpy as np\n",
    "import os"
   ]
  },
  {
   "cell_type": "code",
   "execution_count": 106,
   "metadata": {},
   "outputs": [],
   "source": [
    "#reads in CSV file with Norway data\n",
    "df = pd.read_csv(\"/Users/samirabr12/Downloads/Norway_Stan\")"
   ]
  },
  {
   "cell_type": "code",
   "execution_count": 107,
   "metadata": {
    "scrolled": true
   },
   "outputs": [
    {
     "data": {
      "text/html": [
       "<div>\n",
       "<style scoped>\n",
       "    .dataframe tbody tr th:only-of-type {\n",
       "        vertical-align: middle;\n",
       "    }\n",
       "\n",
       "    .dataframe tbody tr th {\n",
       "        vertical-align: top;\n",
       "    }\n",
       "\n",
       "    .dataframe thead th {\n",
       "        text-align: right;\n",
       "    }\n",
       "</style>\n",
       "<table border=\"1\" class=\"dataframe\">\n",
       "  <thead>\n",
       "    <tr style=\"text-align: right;\">\n",
       "      <th></th>\n",
       "      <th>Unnamed: 0</th>\n",
       "      <th>Name</th>\n",
       "      <th>X</th>\n",
       "      <th>Y</th>\n",
       "      <th>True Vertical Depth</th>\n",
       "      <th>Normalized TVD</th>\n",
       "      <th>Formation</th>\n",
       "    </tr>\n",
       "  </thead>\n",
       "  <tbody>\n",
       "    <tr>\n",
       "      <td>0</td>\n",
       "      <td>0</td>\n",
       "      <td>21675</td>\n",
       "      <td>628531.41</td>\n",
       "      <td>6394710.62</td>\n",
       "      <td>2732.90</td>\n",
       "      <td>0.175273</td>\n",
       "      <td>-1.215791</td>\n",
       "    </tr>\n",
       "    <tr>\n",
       "      <td>1</td>\n",
       "      <td>1</td>\n",
       "      <td>21660</td>\n",
       "      <td>628531.41</td>\n",
       "      <td>6394710.62</td>\n",
       "      <td>2732.90</td>\n",
       "      <td>0.175273</td>\n",
       "      <td>-1.176869</td>\n",
       "    </tr>\n",
       "    <tr>\n",
       "      <td>2</td>\n",
       "      <td>2</td>\n",
       "      <td>21656</td>\n",
       "      <td>628531.47</td>\n",
       "      <td>6394710.62</td>\n",
       "      <td>2794.90</td>\n",
       "      <td>0.179472</td>\n",
       "      <td>-1.137946</td>\n",
       "    </tr>\n",
       "    <tr>\n",
       "      <td>3</td>\n",
       "      <td>3</td>\n",
       "      <td>21664</td>\n",
       "      <td>628531.50</td>\n",
       "      <td>6394710.61</td>\n",
       "      <td>2826.90</td>\n",
       "      <td>0.181639</td>\n",
       "      <td>-1.099024</td>\n",
       "    </tr>\n",
       "    <tr>\n",
       "      <td>4</td>\n",
       "      <td>4</td>\n",
       "      <td>21668</td>\n",
       "      <td>628531.27</td>\n",
       "      <td>6394713.59</td>\n",
       "      <td>4516.88</td>\n",
       "      <td>0.296098</td>\n",
       "      <td>-1.060102</td>\n",
       "    </tr>\n",
       "  </tbody>\n",
       "</table>\n",
       "</div>"
      ],
      "text/plain": [
       "   Unnamed: 0   Name          X           Y  True Vertical Depth  \\\n",
       "0           0  21675  628531.41  6394710.62              2732.90   \n",
       "1           1  21660  628531.41  6394710.62              2732.90   \n",
       "2           2  21656  628531.47  6394710.62              2794.90   \n",
       "3           3  21664  628531.50  6394710.61              2826.90   \n",
       "4           4  21668  628531.27  6394713.59              4516.88   \n",
       "\n",
       "   Normalized TVD  Formation  \n",
       "0        0.175273  -1.215791  \n",
       "1        0.175273  -1.176869  \n",
       "2        0.179472  -1.137946  \n",
       "3        0.181639  -1.099024  \n",
       "4        0.296098  -1.060102  "
      ]
     },
     "execution_count": 107,
     "metadata": {},
     "output_type": "execute_result"
    }
   ],
   "source": [
    "#Prints out data in dataframe\n",
    "df.head()"
   ]
  },
  {
   "cell_type": "code",
   "execution_count": 108,
   "metadata": {},
   "outputs": [
    {
     "data": {
      "text/html": [
       "<div>\n",
       "<style scoped>\n",
       "    .dataframe tbody tr th:only-of-type {\n",
       "        vertical-align: middle;\n",
       "    }\n",
       "\n",
       "    .dataframe tbody tr th {\n",
       "        vertical-align: top;\n",
       "    }\n",
       "\n",
       "    .dataframe thead th {\n",
       "        text-align: right;\n",
       "    }\n",
       "</style>\n",
       "<table border=\"1\" class=\"dataframe\">\n",
       "  <thead>\n",
       "    <tr style=\"text-align: right;\">\n",
       "      <th></th>\n",
       "      <th>Name</th>\n",
       "      <th>X</th>\n",
       "      <th>Y</th>\n",
       "      <th>True Vertical Depth</th>\n",
       "      <th>Normalized TVD</th>\n",
       "      <th>Formation</th>\n",
       "    </tr>\n",
       "  </thead>\n",
       "  <tbody>\n",
       "    <tr>\n",
       "      <td>0</td>\n",
       "      <td>21675</td>\n",
       "      <td>628531.41</td>\n",
       "      <td>6394710.62</td>\n",
       "      <td>2732.90</td>\n",
       "      <td>0.175273</td>\n",
       "      <td>-1.215791</td>\n",
       "    </tr>\n",
       "    <tr>\n",
       "      <td>1</td>\n",
       "      <td>21660</td>\n",
       "      <td>628531.41</td>\n",
       "      <td>6394710.62</td>\n",
       "      <td>2732.90</td>\n",
       "      <td>0.175273</td>\n",
       "      <td>-1.176869</td>\n",
       "    </tr>\n",
       "    <tr>\n",
       "      <td>2</td>\n",
       "      <td>21656</td>\n",
       "      <td>628531.47</td>\n",
       "      <td>6394710.62</td>\n",
       "      <td>2794.90</td>\n",
       "      <td>0.179472</td>\n",
       "      <td>-1.137946</td>\n",
       "    </tr>\n",
       "    <tr>\n",
       "      <td>3</td>\n",
       "      <td>21664</td>\n",
       "      <td>628531.50</td>\n",
       "      <td>6394710.61</td>\n",
       "      <td>2826.90</td>\n",
       "      <td>0.181639</td>\n",
       "      <td>-1.099024</td>\n",
       "    </tr>\n",
       "    <tr>\n",
       "      <td>4</td>\n",
       "      <td>21668</td>\n",
       "      <td>628531.27</td>\n",
       "      <td>6394713.59</td>\n",
       "      <td>4516.88</td>\n",
       "      <td>0.296098</td>\n",
       "      <td>-1.060102</td>\n",
       "    </tr>\n",
       "  </tbody>\n",
       "</table>\n",
       "</div>"
      ],
      "text/plain": [
       "    Name          X           Y  True Vertical Depth  Normalized TVD  \\\n",
       "0  21675  628531.41  6394710.62              2732.90        0.175273   \n",
       "1  21660  628531.41  6394710.62              2732.90        0.175273   \n",
       "2  21656  628531.47  6394710.62              2794.90        0.179472   \n",
       "3  21664  628531.50  6394710.61              2826.90        0.181639   \n",
       "4  21668  628531.27  6394713.59              4516.88        0.296098   \n",
       "\n",
       "   Formation  \n",
       "0  -1.215791  \n",
       "1  -1.176869  \n",
       "2  -1.137946  \n",
       "3  -1.099024  \n",
       "4  -1.060102  "
      ]
     },
     "execution_count": 108,
     "metadata": {},
     "output_type": "execute_result"
    }
   ],
   "source": [
    "#Drops the column with index names \"Unnamed:0\" because it is not useful\n",
    "cols = [0]\n",
    "df.drop(df.columns[cols],axis=1,inplace=True)\n",
    "df.head()"
   ]
  },
  {
   "cell_type": "code",
   "execution_count": 109,
   "metadata": {},
   "outputs": [
    {
     "name": "stdout",
     "output_type": "stream",
     "text": [
      "Index(['Name', 'X', 'Y', 'True Vertical Depth', 'Normalized TVD', 'Formation'], dtype='object')\n",
      "Name is unique: True\n",
      "X is unique: False\n",
      "Y is unique: False\n",
      "True Vertical Depth is unique: False\n",
      "Normalized TVD is unique: False\n",
      "Formation is unique: False\n"
     ]
    }
   ],
   "source": [
    "# Gets column names and prints them \n",
    "column_names = df.columns\n",
    "print(column_names)\n",
    "# Gets column data types\n",
    "df.dtypes\n",
    "# Checks if the column is unique\n",
    "for i in column_names:\n",
    "  print('{} is unique: {}'.format(i, df[i].is_unique))"
   ]
  },
  {
   "cell_type": "code",
   "execution_count": 110,
   "metadata": {},
   "outputs": [
    {
     "data": {
      "text/plain": [
       "array([    0,     1,     2, ..., 21673, 21674, 21675])"
      ]
     },
     "execution_count": 110,
     "metadata": {},
     "output_type": "execute_result"
    }
   ],
   "source": [
    "# Check the index values\n",
    "df.index.values"
   ]
  },
  {
   "cell_type": "code",
   "execution_count": 111,
   "metadata": {},
   "outputs": [
    {
     "data": {
      "text/plain": [
       "array([    0,     1,     2, ..., 21673, 21674, 21675])"
      ]
     },
     "execution_count": 111,
     "metadata": {},
     "output_type": "execute_result"
    }
   ],
   "source": [
    "#Drops the rows with NaN or empty cells because they are not needed\n",
    "df = df.dropna()\n",
    "df_cleaned = df.dropna(how='all')\n",
    "#Prints the index values to check changes\n",
    "df.index.values"
   ]
  },
  {
   "cell_type": "code",
   "execution_count": 112,
   "metadata": {},
   "outputs": [
    {
     "data": {
      "text/html": [
       "<div>\n",
       "<style scoped>\n",
       "    .dataframe tbody tr th:only-of-type {\n",
       "        vertical-align: middle;\n",
       "    }\n",
       "\n",
       "    .dataframe tbody tr th {\n",
       "        vertical-align: top;\n",
       "    }\n",
       "\n",
       "    .dataframe thead th {\n",
       "        text-align: right;\n",
       "    }\n",
       "</style>\n",
       "<table border=\"1\" class=\"dataframe\">\n",
       "  <thead>\n",
       "    <tr style=\"text-align: right;\">\n",
       "      <th></th>\n",
       "      <th>Name</th>\n",
       "      <th>X</th>\n",
       "      <th>Y</th>\n",
       "      <th>True Vertical Depth</th>\n",
       "      <th>Normalized TVD</th>\n",
       "      <th>Formation</th>\n",
       "    </tr>\n",
       "  </thead>\n",
       "  <tbody>\n",
       "    <tr>\n",
       "      <td>0</td>\n",
       "      <td>21675</td>\n",
       "      <td>628531.41</td>\n",
       "      <td>6394710.62</td>\n",
       "      <td>2732.90</td>\n",
       "      <td>0.175273</td>\n",
       "      <td>-1.215791</td>\n",
       "    </tr>\n",
       "    <tr>\n",
       "      <td>1</td>\n",
       "      <td>21660</td>\n",
       "      <td>628531.41</td>\n",
       "      <td>6394710.62</td>\n",
       "      <td>2732.90</td>\n",
       "      <td>0.175273</td>\n",
       "      <td>-1.176869</td>\n",
       "    </tr>\n",
       "    <tr>\n",
       "      <td>2</td>\n",
       "      <td>21656</td>\n",
       "      <td>628531.47</td>\n",
       "      <td>6394710.62</td>\n",
       "      <td>2794.90</td>\n",
       "      <td>0.179472</td>\n",
       "      <td>-1.137946</td>\n",
       "    </tr>\n",
       "    <tr>\n",
       "      <td>3</td>\n",
       "      <td>21664</td>\n",
       "      <td>628531.50</td>\n",
       "      <td>6394710.61</td>\n",
       "      <td>2826.90</td>\n",
       "      <td>0.181639</td>\n",
       "      <td>-1.099024</td>\n",
       "    </tr>\n",
       "    <tr>\n",
       "      <td>4</td>\n",
       "      <td>21668</td>\n",
       "      <td>628531.27</td>\n",
       "      <td>6394713.59</td>\n",
       "      <td>4516.88</td>\n",
       "      <td>0.296098</td>\n",
       "      <td>-1.060102</td>\n",
       "    </tr>\n",
       "  </tbody>\n",
       "</table>\n",
       "</div>"
      ],
      "text/plain": [
       "    Name          X           Y  True Vertical Depth  Normalized TVD  \\\n",
       "0  21675  628531.41  6394710.62              2732.90        0.175273   \n",
       "1  21660  628531.41  6394710.62              2732.90        0.175273   \n",
       "2  21656  628531.47  6394710.62              2794.90        0.179472   \n",
       "3  21664  628531.50  6394710.61              2826.90        0.181639   \n",
       "4  21668  628531.27  6394713.59              4516.88        0.296098   \n",
       "\n",
       "   Formation  \n",
       "0  -1.215791  \n",
       "1  -1.176869  \n",
       "2  -1.137946  \n",
       "3  -1.099024  \n",
       "4  -1.060102  "
      ]
     },
     "execution_count": 112,
     "metadata": {},
     "output_type": "execute_result"
    }
   ],
   "source": [
    "#Prints final dataframe after cleaning\n",
    "df.head()"
   ]
  },
  {
   "cell_type": "code",
   "execution_count": null,
   "metadata": {},
   "outputs": [],
   "source": []
  },
  {
   "cell_type": "code",
   "execution_count": null,
   "metadata": {},
   "outputs": [],
   "source": []
  }
 ],
 "metadata": {
  "kernelspec": {
   "display_name": "Python 3",
   "language": "python",
   "name": "python3"
  },
  "language_info": {
   "codemirror_mode": {
    "name": "ipython",
    "version": 3
   },
   "file_extension": ".py",
   "mimetype": "text/x-python",
   "name": "python",
   "nbconvert_exporter": "python",
   "pygments_lexer": "ipython3",
   "version": "3.7.4"
  }
 },
 "nbformat": 4,
 "nbformat_minor": 2
}
