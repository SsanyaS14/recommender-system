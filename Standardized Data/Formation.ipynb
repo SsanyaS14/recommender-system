{
 "cells": [
  {
   "cell_type": "code",
   "execution_count": 1,
   "metadata": {},
   "outputs": [],
   "source": [
    "import numpy as np\n",
    "import pandas as pd\n",
    "import glob\n",
    "from operator import sub\n",
    "import os"
   ]
  },
  {
   "cell_type": "code",
   "execution_count": 2,
   "metadata": {},
   "outputs": [],
   "source": [
    "os.chdir(\"/Users/sanyas/Desktop/projects\")"
   ]
  },
  {
   "cell_type": "code",
   "execution_count": 3,
   "metadata": {},
   "outputs": [],
   "source": [
    "df = pd.read_excel(\"formation.xls\")"
   ]
  },
  {
   "cell_type": "code",
   "execution_count": 4,
   "metadata": {},
   "outputs": [
    {
     "data": {
      "text/html": [
       "<div>\n",
       "<style scoped>\n",
       "    .dataframe tbody tr th:only-of-type {\n",
       "        vertical-align: middle;\n",
       "    }\n",
       "\n",
       "    .dataframe tbody tr th {\n",
       "        vertical-align: top;\n",
       "    }\n",
       "\n",
       "    .dataframe thead th {\n",
       "        text-align: right;\n",
       "    }\n",
       "</style>\n",
       "<table border=\"1\" class=\"dataframe\">\n",
       "  <thead>\n",
       "    <tr style=\"text-align: right;\">\n",
       "      <th></th>\n",
       "      <th>API Number</th>\n",
       "      <th>Well Number</th>\n",
       "      <th>Form Alias</th>\n",
       "      <th>Top MD</th>\n",
       "    </tr>\n",
       "  </thead>\n",
       "  <tbody>\n",
       "    <tr>\n",
       "      <th>0</th>\n",
       "      <td>490252206600</td>\n",
       "      <td>2-22</td>\n",
       "      <td>SHNNu</td>\n",
       "      <td>902.35</td>\n",
       "    </tr>\n",
       "    <tr>\n",
       "      <th>1</th>\n",
       "      <td>490252206600</td>\n",
       "      <td>2-22</td>\n",
       "      <td>SSXbase</td>\n",
       "      <td>541.44</td>\n",
       "    </tr>\n",
       "    <tr>\n",
       "      <th>2</th>\n",
       "      <td>490252206600</td>\n",
       "      <td>2-22</td>\n",
       "      <td>SSXS</td>\n",
       "      <td>488.36</td>\n",
       "    </tr>\n",
       "    <tr>\n",
       "      <th>3</th>\n",
       "      <td>490252206600</td>\n",
       "      <td>2-22</td>\n",
       "      <td>SHNNl</td>\n",
       "      <td>1005.26</td>\n",
       "    </tr>\n",
       "    <tr>\n",
       "      <th>4</th>\n",
       "      <td>490252206600</td>\n",
       "      <td>2-22</td>\n",
       "      <td>SHNNbs</td>\n",
       "      <td>1070.76</td>\n",
       "    </tr>\n",
       "  </tbody>\n",
       "</table>\n",
       "</div>"
      ],
      "text/plain": [
       "     API Number Well Number Form Alias   Top MD\n",
       "0  490252206600        2-22      SHNNu   902.35\n",
       "1  490252206600        2-22    SSXbase   541.44\n",
       "2  490252206600        2-22       SSXS   488.36\n",
       "3  490252206600        2-22      SHNNl  1005.26\n",
       "4  490252206600        2-22     SHNNbs  1070.76"
      ]
     },
     "execution_count": 4,
     "metadata": {},
     "output_type": "execute_result"
    }
   ],
   "source": [
    "df.head()"
   ]
  },
  {
   "cell_type": "code",
   "execution_count": 5,
   "metadata": {},
   "outputs": [
    {
     "data": {
      "text/plain": [
       "array(['SHNNu', 'SSXbase', 'SSXS', 'SHNNl', 'SHNNbs', 'NBRRws', 'NBRRsg',\n",
       "       'CRLL', 'F1WC', 'F1WCbase', 'F2WC', 'F2WCbase', 'MWRY', 'F3WC',\n",
       "       'F3WCbase', 'DKOT', 'LKOT', 'MRSN', 'B1', 'StFT', 'StGD', 'MDDY',\n",
       "       'StAM', 'StBR', 'F1WCBench1Base', 'F1WCBench2Top',\n",
       "       'F1WCBench2Base', 'F1WCBench3Top', 'A Sand', 'B Dolo', 'B Sand',\n",
       "       'C1 Dolo', 'MNKT', 'OPCH', 'THRM', 'TensleepFluidLevel', 'ALCV',\n",
       "       'LAKev', 'CRMT', 'LAKss', 'CNSP', 'FRLL', 'StTC', 'SNDCu', 'RDPK',\n",
       "       'ERVY', 'C2 Sand', 'C3 Dolo', 'C3 Sand', 'C4 Dolo', 'C4 Sand',\n",
       "       'D Dolo', 'C1 Sand', 'C2 Dolo', 'E Dolo', 'D Sand', 'GLND', 'PC',\n",
       "       'MDSN', 'AMSD'], dtype=object)"
      ]
     },
     "execution_count": 5,
     "metadata": {},
     "output_type": "execute_result"
    }
   ],
   "source": [
    "df['Form Alias'].unique()"
   ]
  },
  {
   "cell_type": "code",
   "execution_count": 6,
   "metadata": {},
   "outputs": [
    {
     "data": {
      "text/plain": [
       "0          SHNNu\n",
       "1        SSXbase\n",
       "2           SSXS\n",
       "3          SHNNl\n",
       "4         SHNNbs\n",
       "          ...   \n",
       "7280    F2WCbase\n",
       "7281        MWRY\n",
       "7282        DKOT\n",
       "7283        LKOT\n",
       "7284       SHNNu\n",
       "Name: Form Alias, Length: 7285, dtype: object"
      ]
     },
     "execution_count": 6,
     "metadata": {},
     "output_type": "execute_result"
    }
   ],
   "source": [
    "df['Form Alias']"
   ]
  },
  {
   "cell_type": "code",
   "execution_count": 7,
   "metadata": {},
   "outputs": [],
   "source": [
    "labels = df['Form Alias'].unique().tolist()\n",
    "mapping = dict( zip(labels,range(len(labels))) )\n",
    "df.replace({'Form Alias': mapping},inplace=True)\n",
    "# Transfer all the different types of formations into numerical values"
   ]
  },
  {
   "cell_type": "code",
   "execution_count": 8,
   "metadata": {},
   "outputs": [
    {
     "data": {
      "text/html": [
       "<div>\n",
       "<style scoped>\n",
       "    .dataframe tbody tr th:only-of-type {\n",
       "        vertical-align: middle;\n",
       "    }\n",
       "\n",
       "    .dataframe tbody tr th {\n",
       "        vertical-align: top;\n",
       "    }\n",
       "\n",
       "    .dataframe thead th {\n",
       "        text-align: right;\n",
       "    }\n",
       "</style>\n",
       "<table border=\"1\" class=\"dataframe\">\n",
       "  <thead>\n",
       "    <tr style=\"text-align: right;\">\n",
       "      <th></th>\n",
       "      <th>API Number</th>\n",
       "      <th>Well Number</th>\n",
       "      <th>Form Alias</th>\n",
       "      <th>Top MD</th>\n",
       "    </tr>\n",
       "  </thead>\n",
       "  <tbody>\n",
       "    <tr>\n",
       "      <th>0</th>\n",
       "      <td>490252206600</td>\n",
       "      <td>2-22</td>\n",
       "      <td>0</td>\n",
       "      <td>902.35</td>\n",
       "    </tr>\n",
       "    <tr>\n",
       "      <th>1</th>\n",
       "      <td>490252206600</td>\n",
       "      <td>2-22</td>\n",
       "      <td>1</td>\n",
       "      <td>541.44</td>\n",
       "    </tr>\n",
       "    <tr>\n",
       "      <th>2</th>\n",
       "      <td>490252206600</td>\n",
       "      <td>2-22</td>\n",
       "      <td>2</td>\n",
       "      <td>488.36</td>\n",
       "    </tr>\n",
       "    <tr>\n",
       "      <th>3</th>\n",
       "      <td>490252206600</td>\n",
       "      <td>2-22</td>\n",
       "      <td>3</td>\n",
       "      <td>1005.26</td>\n",
       "    </tr>\n",
       "    <tr>\n",
       "      <th>4</th>\n",
       "      <td>490252206600</td>\n",
       "      <td>2-22</td>\n",
       "      <td>4</td>\n",
       "      <td>1070.76</td>\n",
       "    </tr>\n",
       "  </tbody>\n",
       "</table>\n",
       "</div>"
      ],
      "text/plain": [
       "     API Number Well Number  Form Alias   Top MD\n",
       "0  490252206600        2-22           0   902.35\n",
       "1  490252206600        2-22           1   541.44\n",
       "2  490252206600        2-22           2   488.36\n",
       "3  490252206600        2-22           3  1005.26\n",
       "4  490252206600        2-22           4  1070.76"
      ]
     },
     "execution_count": 8,
     "metadata": {},
     "output_type": "execute_result"
    }
   ],
   "source": [
    "df.head()"
   ]
  },
  {
   "cell_type": "code",
   "execution_count": 9,
   "metadata": {},
   "outputs": [
    {
     "data": {
      "text/plain": [
       "{'SHNNu': 0,\n",
       " 'SSXbase': 1,\n",
       " 'SSXS': 2,\n",
       " 'SHNNl': 3,\n",
       " 'SHNNbs': 4,\n",
       " 'NBRRws': 5,\n",
       " 'NBRRsg': 6,\n",
       " 'CRLL': 7,\n",
       " 'F1WC': 8,\n",
       " 'F1WCbase': 9,\n",
       " 'F2WC': 10,\n",
       " 'F2WCbase': 11,\n",
       " 'MWRY': 12,\n",
       " 'F3WC': 13,\n",
       " 'F3WCbase': 14,\n",
       " 'DKOT': 15,\n",
       " 'LKOT': 16,\n",
       " 'MRSN': 17,\n",
       " 'B1': 18,\n",
       " 'StFT': 19,\n",
       " 'StGD': 20,\n",
       " 'MDDY': 21,\n",
       " 'StAM': 22,\n",
       " 'StBR': 23,\n",
       " 'F1WCBench1Base': 24,\n",
       " 'F1WCBench2Top': 25,\n",
       " 'F1WCBench2Base': 26,\n",
       " 'F1WCBench3Top': 27,\n",
       " 'A Sand': 28,\n",
       " 'B Dolo': 29,\n",
       " 'B Sand': 30,\n",
       " 'C1 Dolo': 31,\n",
       " 'MNKT': 32,\n",
       " 'OPCH': 33,\n",
       " 'THRM': 34,\n",
       " 'TensleepFluidLevel': 35,\n",
       " 'ALCV': 36,\n",
       " 'LAKev': 37,\n",
       " 'CRMT': 38,\n",
       " 'LAKss': 39,\n",
       " 'CNSP': 40,\n",
       " 'FRLL': 41,\n",
       " 'StTC': 42,\n",
       " 'SNDCu': 43,\n",
       " 'RDPK': 44,\n",
       " 'ERVY': 45,\n",
       " 'C2 Sand': 46,\n",
       " 'C3 Dolo': 47,\n",
       " 'C3 Sand': 48,\n",
       " 'C4 Dolo': 49,\n",
       " 'C4 Sand': 50,\n",
       " 'D Dolo': 51,\n",
       " 'C1 Sand': 52,\n",
       " 'C2 Dolo': 53,\n",
       " 'E Dolo': 54,\n",
       " 'D Sand': 55,\n",
       " 'GLND': 56,\n",
       " 'PC': 57,\n",
       " 'MDSN': 58,\n",
       " 'AMSD': 59}"
      ]
     },
     "execution_count": 9,
     "metadata": {},
     "output_type": "execute_result"
    }
   ],
   "source": [
    "mapping"
   ]
  },
  {
   "cell_type": "code",
   "execution_count": 10,
   "metadata": {},
   "outputs": [],
   "source": [
    "X = df['Form Alias']\n",
    "from sklearn import preprocessing\n",
    "standardized_X = preprocessing.scale(X)\n",
    "# standardize formation"
   ]
  },
  {
   "cell_type": "code",
   "execution_count": 11,
   "metadata": {},
   "outputs": [
    {
     "data": {
      "text/plain": [
       "array([-0.9837844 , -0.87807057, -0.77235673, ...,  0.60192311,\n",
       "        0.70763694, -0.9837844 ])"
      ]
     },
     "execution_count": 11,
     "metadata": {},
     "output_type": "execute_result"
    }
   ],
   "source": [
    "standardized_X"
   ]
  },
  {
   "cell_type": "code",
   "execution_count": null,
   "metadata": {},
   "outputs": [],
   "source": []
  }
 ],
 "metadata": {
  "kernelspec": {
   "display_name": "Python 3",
   "language": "python",
   "name": "python3"
  },
  "language_info": {
   "codemirror_mode": {
    "name": "ipython",
    "version": 3
   },
   "file_extension": ".py",
   "mimetype": "text/x-python",
   "name": "python",
   "nbconvert_exporter": "python",
   "pygments_lexer": "ipython3",
   "version": "3.6.7"
  }
 },
 "nbformat": 4,
 "nbformat_minor": 4
}
